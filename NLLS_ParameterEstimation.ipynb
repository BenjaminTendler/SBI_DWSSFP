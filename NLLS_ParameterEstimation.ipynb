{
 "cells": [
  {
   "cell_type": "code",
   "execution_count": null,
   "metadata": {},
   "outputs": [],
   "source": [
    "##\n",
    "#Import Packages\n",
    "import numpy as np\n",
    "import nibabel as nib\n",
    "import sys\n",
    "from scipy.optimize import curve_fit"
   ]
  },
  {
   "cell_type": "code",
   "execution_count": null,
   "metadata": {},
   "outputs": [],
   "source": [
    "##\n",
    "#Define Path to Code database\n",
    "DirPath = '/PATH/TO/bin/'\n",
    "\n",
    "#Define Path to Example Data\n",
    "DataPath = '/PATH/TO/ExampleData/'\n",
    "\n",
    "#Define Output Path\n",
    "OutputPath = '/PATH/TO/Output/'"
   ]
  },
  {
   "cell_type": "code",
   "execution_count": null,
   "metadata": {},
   "outputs": [],
   "source": [
    "##\n",
    "#Import Custom Functions\n",
    "sys.path.append(DirPath)\n",
    "from ImportData import *\n",
    "from FreedAnalytical import *"
   ]
  },
  {
   "cell_type": "code",
   "execution_count": null,
   "metadata": {},
   "outputs": [],
   "source": [
    "##\n",
    "#Load Data\n",
    "    # Data - DW-SSFP Data (4D)\n",
    "    # T1Map - T1 Map (ms, 3D)\n",
    "    # T2Map - T2 Map (ms, 3D)\n",
    "    # B1Map - B1 Map (Normalised, 3D)\n",
    "    # Mask - Mask (Binary, 3D)\n",
    "    # noisefloor - noisefloor estimate (1xn)\n",
    "    # bvecs - bvectors (3xn)\n",
    "    # FlipAngles - Flip Angles (degrees) (1xn)\n",
    "    # tau - Diffusion Gradient Duration (seconds) (1xn), \n",
    "    # G - Diffusion Gradient Duration (G/cm - Equivalent to mT/m Divided by 10) (1xn)\n",
    "    # TRs - Repetition Times (seconds) (1xn)\n",
    "    # b0s - Array Defining b0 Locations (b0 = 1, dwi = 0) (1xn)\n",
    "Data, T1Map, T2Map, B1Map, Mask, noisefloor, bvecs, FlipAngles, tau, G, TRs, b0s = ImportDataDWSSFP(DataPath)"
   ]
  },
  {
   "cell_type": "code",
   "execution_count": null,
   "metadata": {},
   "outputs": [],
   "source": [
    "##\n",
    "#Estimate Mean Noisefloor\n",
    "Noisefloor_Mean = np.mean(noisefloor)"
   ]
  },
  {
   "cell_type": "code",
   "execution_count": null,
   "metadata": {},
   "outputs": [],
   "source": [
    "##\n",
    "#Normalise Data by S0 (Estimate S0 per Flip Angle) & Perform Noisefloor Correction \n",
    "\n",
    "##\n",
    "#Define unique locations\n",
    "Values, Index = np.unique(FlipAngles, return_index=True)\n",
    "\n",
    "##\n",
    "#Estimate normalised data for each flip angle\n",
    "for idx, k in enumerate(Index):\n",
    "    #Calculate theoretical signal amplitude\n",
    "    b0 = FreedDWSSFP(G[k], tau[k], TRs[k], FlipAngles[k]*B1Map.data, 0, T1Map.data, T2Map.data)\n",
    "    #Identify S0 (incorporating noisefloor contribution)\n",
    "    S0 = np.abs(np.mean(Data.data[:,:,:,(b0s == 1) & (FlipAngles == Values[idx])],axis = 3)**2-Noisefloor_Mean**2)**0.5/b0*Mask.data\n",
    "    #Divide by S0 & Remove NoiseFloor\n",
    "    Data.data[:,:,:,FlipAngles == Values[idx]] = np.abs(Data.data[:,:,:,FlipAngles == Values[idx]]**2-Noisefloor_Mean**2)**0.5/S0[:,:,:,np.newaxis]"
   ]
  },
  {
   "cell_type": "code",
   "execution_count": null,
   "metadata": {},
   "outputs": [],
   "source": [
    "##\n",
    "#Perform Parameter Estimation (NLLS)\n",
    "\n",
    "##\n",
    "#Initialise Output Array\n",
    "Tensor = np.zeros((*T1Map.data.shape,6))\n",
    "TensorSD = np.zeros((*T1Map.data.shape,6))\n",
    "\n",
    "\n",
    "##\n",
    "#Define Initial Fitting Point & Bounds (NLLS)\n",
    "Init = np.array([4, 3, 2, -1, 1, -2])*10**-4\n",
    "low = np.array([0, 0, 0, -1, -1, -1])*10**-3\n",
    "high = np.array([1, 1, 1, 1, 1, 1])*10**-3\n",
    "\n",
    "##\n",
    "#Perform Parameter Estimation for all Voxels in Dataset\n",
    "for k in range(Data.data.shape[0]):\n",
    "    for l in range(Data.data.shape[1]):\n",
    "        for m in range(Data.data.shape[2]):\n",
    "            if Mask.data[k,l,m] == 0:\n",
    "                continue\n",
    "            #Perform Parameter Estimation\n",
    "            Tensor[k,l,m,:], pcov = curve_fit(lambda x, *theta: FreedDWSSFPTensor_curve_fit(x, theta, G, tau, TRs, FlipAngles, bvecs, B1Map.data[k,l,m], T1Map.data[k,l,m], T2Map.data[k,l,m]), 1, Data.data[k,l,m,:], p0 = Init, bounds=(low,high), method='trf',maxfev=10**6)\n",
    "            #Calculate Standard Deviation\n",
    "            TensorSD[k,l,m,:] = np.sqrt(np.diag(pcov))\n",
    "    print(k)"
   ]
  },
  {
   "cell_type": "code",
   "execution_count": null,
   "metadata": {},
   "outputs": [],
   "source": [
    "##\n",
    "#Save Outputs\n",
    "\n",
    "##\n",
    "#Tensor Components\n",
    "nib.save(nib.Nifti1Image(Tensor[:,:,:,0],Data.aff),''.join([OutputPath, 'D11_Mean.nii.gz']))\n",
    "nib.save(nib.Nifti1Image(Tensor[:,:,:,1],Data.aff),''.join([OutputPath, 'D22_Mean.nii.gz']))\n",
    "nib.save(nib.Nifti1Image(Tensor[:,:,:,2],Data.aff),''.join([OutputPath, 'D33_Mean.nii.gz']))\n",
    "nib.save(nib.Nifti1Image(Tensor[:,:,:,3],Data.aff),''.join([OutputPath, 'D12_Mean.nii.gz']))\n",
    "nib.save(nib.Nifti1Image(Tensor[:,:,:,4],Data.aff),''.join([OutputPath, 'D13_Mean.nii.gz']))\n",
    "nib.save(nib.Nifti1Image(Tensor[:,:,:,5],Data.aff),''.join([OutputPath, 'D23_Mean.nii.gz']))\n",
    "\n",
    "##\n",
    "#Tensor Components Standard Deviation\n",
    "nib.save(nib.Nifti1Image(TensorSD[:,:,:,0],Data.aff),''.join([OutputPath, 'D11_SD.nii.gz']))\n",
    "nib.save(nib.Nifti1Image(TensorSD[:,:,:,1],Data.aff),''.join([OutputPath, 'D22_SD.nii.gz']))\n",
    "nib.save(nib.Nifti1Image(TensorSD[:,:,:,2],Data.aff),''.join([OutputPath, 'D33_SD.nii.gz']))\n",
    "nib.save(nib.Nifti1Image(TensorSD[:,:,:,3],Data.aff),''.join([OutputPath, 'D12_SD.nii.gz']))\n",
    "nib.save(nib.Nifti1Image(TensorSD[:,:,:,4],Data.aff),''.join([OutputPath, 'D13_SD.nii.gz']))\n",
    "nib.save(nib.Nifti1Image(TensorSD[:,:,:,5],Data.aff),''.join([OutputPath, 'D23_SD.nii.gz']))"
   ]
  },
  {
   "cell_type": "code",
   "execution_count": null,
   "metadata": {},
   "outputs": [],
   "source": [
    "##\n",
    "#Convert the Diffusivity Outputs to Eigenvalue/Eigenvector/FA Outputs in FSL via\n",
    "#fslmerge -t dti D11_Mean.nii.gz D12_Mean.nii.gz D13_Mean.nii.gz D22_Mean.nii.gz D23_Mean.nii.gz D33_Mean.nii.gz\n",
    "#fslmaths dti.nii.gz -tensor_decomp dti"
   ]
  }
 ],
 "metadata": {
  "kernelspec": {
   "display_name": "sbi_env",
   "language": "python",
   "name": "python3"
  },
  "language_info": {
   "codemirror_mode": {
    "name": "ipython",
    "version": 3
   },
   "file_extension": ".py",
   "mimetype": "text/x-python",
   "name": "python",
   "nbconvert_exporter": "python",
   "pygments_lexer": "ipython3",
   "version": "3.12.8"
  }
 },
 "nbformat": 4,
 "nbformat_minor": 2
}
