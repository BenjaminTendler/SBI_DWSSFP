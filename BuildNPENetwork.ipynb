{
 "cells": [
  {
   "cell_type": "code",
   "execution_count": null,
   "metadata": {},
   "outputs": [],
   "source": [
    "##\n",
    "#Import Packages\n",
    "import numpy as np\n",
    "import nibabel as nib\n",
    "import sys\n",
    "import pickle\n",
    "import torch\n",
    "\n",
    "##\n",
    "#SBI Specific Packages\n",
    "from sbi import utils as utils\n",
    "from sbi.inference import SNPE, simulate_for_sbi\n",
    "from sbi.utils import RestrictionEstimator\n",
    "from sbi.neural_nets import posterior_nn"
   ]
  },
  {
   "cell_type": "code",
   "execution_count": null,
   "metadata": {},
   "outputs": [],
   "source": [
    "##\n",
    "#Define Path to Code database\n",
    "DirPath = '/PATH/TO/bin/'\n",
    "\n",
    "#Define Output Path for Posterior Object\n",
    "OutputPath = '/PATH/TO/OUTPUT.pkl'\n",
    "\n",
    "#Define Path to Input Data\n",
    "DataPath = '/PATH/TO/Data'"
   ]
  },
  {
   "cell_type": "code",
   "execution_count": null,
   "metadata": {},
   "outputs": [],
   "source": [
    "##\n",
    "#Is Network Conditioned on T1/T2/B1? (True/False)\n",
    "Cond = True"
   ]
  },
  {
   "cell_type": "code",
   "execution_count": null,
   "metadata": {},
   "outputs": [],
   "source": [
    "##\n",
    "#Define Number of Simulations (Only Accepts Inputs in Integer Format)\n",
    " \n",
    "##\n",
    "#Restricted Prior Estimator (Classifer Network - Identify Prior Regions Corresponding to Invalid Simulations - Where Eigenvalues < 0 for Tensor)\n",
    "noSim_RPE = 500000\n",
    "\n",
    "##\n",
    "#NPE Network \n",
    "noSim = 1000000"
   ]
  },
  {
   "cell_type": "code",
   "execution_count": null,
   "metadata": {},
   "outputs": [],
   "source": [
    "##\n",
    "#Perform Simulations at different SNR levels (Total Simulations = noSim x (number of SNR levels+1))\n",
    "\n",
    "##\n",
    "#Define SNR Range\n",
    "SNR = [2,50]\n",
    "\n",
    "##\n",
    "#Define number of SNR levels (not including noise-free simulations)\n",
    "SNRlevels = 5"
   ]
  },
  {
   "cell_type": "code",
   "execution_count": null,
   "metadata": {},
   "outputs": [],
   "source": [
    "##\n",
    "#Define Prior ranges for Tensor [D11,D22,D33,D12,D13,D23] (mm2/s) - Suitable Range for Post-Mortem Investigations\n",
    "PriorLow = [0, 0, 0, -0.00025, -0.00025, -0.00025]\n",
    "PriorHigh = [0.0005, 0.0005, 0.0005, 0.00025, 0.00025, 0.00025]"
   ]
  },
  {
   "cell_type": "code",
   "execution_count": null,
   "metadata": {},
   "outputs": [],
   "source": [
    "##\n",
    "#Define Priors\n",
    "prior = utils.BoxUniform(low=torch.tensor(PriorLow), high=torch.tensor(PriorHigh))"
   ]
  },
  {
   "cell_type": "code",
   "execution_count": null,
   "metadata": {},
   "outputs": [],
   "source": [
    "##\n",
    "#Define Range of T1 (ms), T2 (ms) & B1 (normalised) for Forward Simulator\n",
    "T1Range = [300,1200]\n",
    "T2Range = [20,80]\n",
    "B1Range = [0.2,1.2]"
   ]
  },
  {
   "cell_type": "code",
   "execution_count": null,
   "metadata": {},
   "outputs": [],
   "source": [
    "##\n",
    "#Import Custom Functions (Including Simulator)\n",
    "sys.path.append(DirPath)\n",
    "from FreedAnalytical import *\n",
    "from ImportData import *"
   ]
  },
  {
   "cell_type": "code",
   "execution_count": null,
   "metadata": {},
   "outputs": [],
   "source": [
    "##\n",
    "#Load Data\n",
    "    # bvecs - bvectors (3xn)\n",
    "    # FlipAngles - Flip Angles (degrees) (1xn)\n",
    "    # tau - Diffusion Gradient Duration (seconds) (1xn), \n",
    "    # G - Diffusion Gradient Duration (G/cm - Equivalent to mT/m Divided by 10) (1xn)\n",
    "    # TRs - Repetition Times (seconds) (1xn)\n",
    "    # b0s - Array Defining b0 locations (b0 = 1, dwi = 0) (1xn)\n",
    "\n",
    "bvecs, FlipAngles, tau, G, TRs, b0s = ImportTextDataDWSSFP(DataPath)"
   ]
  },
  {
   "cell_type": "code",
   "execution_count": null,
   "metadata": {},
   "outputs": [],
   "source": [
    "##\n",
    "#Define DW-SSFP Tensor Forward Simulator (Uses lambda for Compatibility with SBI Toolbox)\n",
    "simulator = lambda theta: FreedDWSSFPTensor_Conditional_SBIWrapper(theta,G,tau,TRs,FlipAngles,bvecs,B1Range,T1Range,T2Range,Cond=Cond)"
   ]
  },
  {
   "cell_type": "code",
   "execution_count": null,
   "metadata": {},
   "outputs": [],
   "source": [
    "##\n",
    "#Generate Training data - Restricted Prior Estimator\n",
    "theta_RPE, x_RPE = simulate_for_sbi(simulator, prior, noSim_RPE)\n",
    "\n",
    "##\n",
    "#Train Restricted Prior Estimator\n",
    "restriction_estimator = RestrictionEstimator(prior=prior)\n",
    "restriction_estimator.append_simulations(theta_RPE, x_RPE)\n",
    "classifier = restriction_estimator.train()\n",
    "\n",
    "##\n",
    "#Define Restricted Prior\n",
    "restricted_prior = restriction_estimator.restrict_prior()"
   ]
  },
  {
   "cell_type": "code",
   "execution_count": null,
   "metadata": {},
   "outputs": [],
   "source": [
    "##\n",
    "#Generate Training Data with Restricted Prior\n",
    "theta, x = simulate_for_sbi(simulator, restricted_prior, noSim)"
   ]
  },
  {
   "cell_type": "code",
   "execution_count": null,
   "metadata": {},
   "outputs": [],
   "source": [
    "##\n",
    "#Create Different SNR Levels For Training Data (based on b0)\n",
    "\n",
    "##\n",
    "#Estimate Mean b0 \n",
    "b0 = torch.nanmean(x[:,:b0s.shape[0]][:,b0s==1])\n",
    "\n",
    "##\n",
    "#Replicate the variable and signal arrays by the number of SNR levels + 1\n",
    "thetaSNR = theta.repeat(SNRlevels+1,1)\n",
    "xSNR = x.repeat(SNRlevels+1,1)\n",
    "\n",
    "##\n",
    "#Scale the Signals by Different SNR Levels\n",
    "xSNR[theta.shape[0]:,:b0s.shape[0]]=np.abs(xSNR[theta.shape[0]:,:b0s.shape[0]]+torch.randn((x[:,:b0s.shape[0]].shape[0]*SNRlevels,x[:,:b0s.shape[0]].shape[1]))*b0/torch.distributions.uniform.Uniform(SNR[0], SNR[1]).sample([x.shape[0]*SNRlevels,1]))"
   ]
  },
  {
   "cell_type": "code",
   "execution_count": null,
   "metadata": {},
   "outputs": [],
   "source": [
    "##\n",
    "#Define Neural Density Estimator\n",
    "neural_posterior = posterior_nn(model=\"nsf\")\n",
    "\n",
    "#Perform Inference with NPE\n",
    "inference = SNPE(prior=prior,density_estimator=neural_posterior)\n",
    "density_estimator = inference.append_simulations(thetaSNR, xSNR).train()\n",
    "posterior = inference.build_posterior()"
   ]
  },
  {
   "cell_type": "code",
   "execution_count": null,
   "metadata": {},
   "outputs": [],
   "source": [
    "##\n",
    "#Save Posterior Object\n",
    "with open(OutputPath, \"wb\") as handle:\n",
    "    pickle.dump(posterior, handle)"
   ]
  }
 ],
 "metadata": {
  "kernelspec": {
   "display_name": "sbi_env",
   "language": "python",
   "name": "python3"
  },
  "language_info": {
   "codemirror_mode": {
    "name": "ipython",
    "version": 3
   },
   "file_extension": ".py",
   "mimetype": "text/x-python",
   "name": "python",
   "nbconvert_exporter": "python",
   "pygments_lexer": "ipython3",
   "version": "3.12.8"
  }
 },
 "nbformat": 4,
 "nbformat_minor": 2
}
