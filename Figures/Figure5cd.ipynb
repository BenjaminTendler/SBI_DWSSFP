{
 "cells": [
  {
   "cell_type": "code",
   "execution_count": null,
   "id": "a56638f2",
   "metadata": {},
   "outputs": [],
   "source": [
    "##\n",
    "#Import Packages\n",
    "import numpy as np\n",
    "import sys\n",
    "import pickle\n",
    "import torch\n",
    "import matplotlib.pyplot as plt\n",
    "from scipy.stats import iqr\n",
    "from scipy.optimize import curve_fit\n",
    "\n",
    "##\n",
    "#SBI Specific Packages\n",
    "from sbi import analysis as analysis\n",
    "from sbi import utils as utils"
   ]
  },
  {
   "cell_type": "code",
   "execution_count": null,
   "id": "3b36831f",
   "metadata": {},
   "outputs": [],
   "source": [
    "##\n",
    "#Define Path to Code Database\n",
    "DirPath = '/PATH/TO/bin/'\n",
    "\n",
    "#Define Path for Posterior Object\n",
    "InputPath = '/PATH/TO/Posterior.pkl'\n",
    "\n",
    "#Define Path to Example Data\n",
    "DataPath = '/PATH/TO/ExampleData/'\n",
    "\n",
    "#Define Output Path\n",
    "OutputPath = '/PATH/TO/Output/'"
   ]
  },
  {
   "cell_type": "code",
   "execution_count": null,
   "id": "164bd9ad",
   "metadata": {},
   "outputs": [],
   "source": [
    "##\n",
    "#Load Posterior\n",
    "with open(InputPath, \"rb\") as handle:\n",
    "    posterior = pickle.load(handle)"
   ]
  },
  {
   "cell_type": "code",
   "execution_count": null,
   "id": "5edfb2ca",
   "metadata": {},
   "outputs": [],
   "source": [
    "##\n",
    "#Import Custom Functions\n",
    "sys.path.append(DirPath)\n",
    "from ImportData import *\n",
    "from FreedAnalytical import *"
   ]
  },
  {
   "cell_type": "code",
   "execution_count": null,
   "id": "4041628e",
   "metadata": {},
   "outputs": [],
   "source": [
    "##\n",
    "#Load Data\n",
    "    # bvecs - bvectors (3xn)\n",
    "    # FlipAngles - Flip Angles (degrees) (1xn)\n",
    "    # tau - Diffusion Gradient Duration (seconds) (1xn), \n",
    "    # G - Diffusion Gradient Duration (G/cm - Equivalent to mT/m Divided by 10) (1xn)\n",
    "    # TRs - Repetition Times (seconds) (1xn)\n",
    "    # b0s - Array Defining b0 locations (b0 = 1, dwi = 0) (1xn)\n",
    "\n",
    "bvecs, FlipAngles, tau, G, TRs, _ = ImportTextDataDWSSFP(DataPath)"
   ]
  },
  {
   "cell_type": "code",
   "execution_count": null,
   "id": "0b715776",
   "metadata": {},
   "outputs": [],
   "source": [
    "##\n",
    "#Obtain Arbitrary Tensor / Signal Pairs\n",
    "from sbi.inference import SNPE, simulate_for_sbi\n",
    "\n",
    "##\n",
    "#Define Nuber of Simulations\n",
    "nSim = 1000\n",
    "\n",
    "#Define SNR Level (wrt b0)\n",
    "SNR = 5\n",
    "\n",
    "##\n",
    "#Define Prior Bounds\n",
    "PriorLow = [0, 0, 0, -0.00025, -0.00025, -0.00025]\n",
    "PriorHigh = [0.0005, 0.0005, 0.0005, 0.00025, 0.00025, 0.00025]\n",
    "\n",
    "##\n",
    "#Define Prior (Uniform)\n",
    "prior = utils.BoxUniform(low=torch.tensor(PriorLow), high=torch.tensor(PriorHigh))\n",
    "\n",
    "##\n",
    "#Define Range of T1 (ms), T2 (ms) & B1 (normalised) for Forward Simulator\n",
    "T1Range = [300,1200]\n",
    "T2Range = [20,80]\n",
    "B1Range = [0.2,1.2]\n",
    "\n",
    "##\n",
    "#Define Simulator\n",
    "simulator = lambda theta: FreedDWSSFPTensor_Conditional_SBIWrapper(theta,G,tau,TRs,FlipAngles,bvecs,B1Range,T1Range,T2Range,Cond=True)\n",
    "\n",
    "##\n",
    "#Estimate Tensor / Signal Pairs - Exagerate no. Simulations to Account for NaNs (i.e. Invalid Tensors)\n",
    "DArb, SArb = simulate_for_sbi(simulator, prior, nSim*5)\n",
    "\n",
    "##\n",
    "#Add Noise\n",
    "SArb[:,:-3] = np.abs(SArb[:,:-3] + (torch.randn(*SArb[:,:-3].shape)*SArb[:,0][:,np.newaxis]/SNR))"
   ]
  },
  {
   "cell_type": "code",
   "execution_count": null,
   "id": "845c3674",
   "metadata": {},
   "outputs": [],
   "source": [
    "##\n",
    "#Obtain nSim Valid Tensor / Signal Pairs for Evaluation\n",
    "Finite_idx = np.squeeze(np.argwhere(np.isfinite(SArb[:,0])))\n",
    "DArb = DArb[Finite_idx[0:nSim],:]\n",
    "SArb = SArb[Finite_idx[0:nSim],:]"
   ]
  },
  {
   "cell_type": "code",
   "execution_count": null,
   "id": "d8bbda9a",
   "metadata": {},
   "outputs": [],
   "source": [
    "##\n",
    "#Define Number of Posterior Samples per Evaluation\n",
    "Samples = 100\n",
    "\n",
    "##\n",
    "#Define Initial Fitting Point & Bounds (NLLS)\n",
    "Init = np.array([4, 3, 2, -1, 1, -2])*10**-4\n",
    "low = np.array([0, 0, 0, -1, -1, -1])*10**-3\n",
    "high = np.array([1, 1, 1, 1, 1, 1])*10**-3\n",
    "\n",
    "##\n",
    "#Initialise Matrices\n",
    "D_NPE = np.zeros([Samples,6,nSim])\n",
    "D_NLLS = np.zeros([6,nSim])\n",
    "\n",
    "##\n",
    "#Perform NPE & NLLS Evalution\n",
    "for k in range(nSim):  \n",
    "    D_NPE[:,:,k] = posterior.sample((Samples,), x=SArb[k,:])\n",
    "    D_NLLS[:,k], _ = curve_fit(lambda x, *theta: FreedDWSSFPTensor_curve_fit(x, theta, G, tau, TRs, FlipAngles, bvecs, SArb[k,-3].numpy()*1E2, SArb[k,-2].numpy()*1E5, SArb[k,-1].numpy()*1E4), 1, SArb[k,:-3].numpy(), p0 = Init, bounds = (low,high), method='trf',maxfev=10**6)"
   ]
  },
  {
   "cell_type": "code",
   "execution_count": null,
   "id": "a7bf22f3",
   "metadata": {},
   "outputs": [],
   "source": [
    "##\n",
    "#Obtain Mean Posterior for NPE\n",
    "D_NPE_Mean = np.mean(D_NPE,axis=0)"
   ]
  },
  {
   "cell_type": "code",
   "execution_count": null,
   "id": "d8d12e03",
   "metadata": {},
   "outputs": [],
   "source": [
    "##\n",
    "#Plot Figure\n",
    "fig, axs = plt.subplots(1, 6)\n",
    "fig.set_size_inches(12,3)\n",
    "labels = [r'$D_{xx}\\cdot 10^{-4}$ $mm^2/s$',r'$D_{yy}\\cdot 10^{-4}$ $mm^2/s$',r'$D_{zz}\\cdot 10^{-4}$ $mm^2/s$']\n",
    "for k in range(3):\n",
    "    axs[k].hist((D_NPE_Mean[k,:]-DArb[:,k].numpy())*10**4,bins=25);axs[k].set_xlim([-3,3]);axs[k].set_yticks([]);axs[k].set_xlabel(labels[k])\n",
    "    axs[k+3].hist((D_NLLS[k,:]-DArb[:,k].numpy())*10**4,bins=25);axs[k+3].set_xlim([-3,3]);axs[k+3].set_yticks([]);axs[k+3].set_xlabel(labels[k])\n",
    "axs[0].text(-0.15, 1.05, '(c) Difference (NPE; SNR = 5)', transform=axs[0].transAxes, size=15)\n",
    "axs[3].text(-0.15, 1.05, '(d) Difference (NLLS; SNR = 5)', transform=axs[3].transAxes, size=15)"
   ]
  },
  {
   "cell_type": "code",
   "execution_count": null,
   "id": "002121b3",
   "metadata": {},
   "outputs": [],
   "source": [
    "##\n",
    "#Calculate Average Difference (NPE)\n",
    "D_NPE_Diff = np.median(np.abs(np.transpose(D_NPE_Mean)-DArb.numpy()))\n",
    "print(''.join(['Median Difference versus Ground Truth = ','{0:.2f}'.format(D_NPE_Diff*10**4), r' x10^-4 mm2/s']))\n",
    "\n",
    "##\n",
    "#Calculate Interquartile Range (NPE)\n",
    "D_NPE_IQR = iqr(np.abs(np.transpose(D_NPE_Mean)-DArb.numpy()))\n",
    "print(''.join(['IQR = ','{0:.2f}'.format(D_NPE_IQR*10**4), r' x10^-4 mm2/s']))"
   ]
  },
  {
   "cell_type": "code",
   "execution_count": null,
   "id": "c8cc82f0",
   "metadata": {},
   "outputs": [],
   "source": [
    "##\n",
    "#Save Figure\n",
    "fig.savefig(''.join([OutputPath,'Figure5cd.pdf']),dpi=300,format='pdf',bbox_inches='tight')"
   ]
  }
 ],
 "metadata": {
  "kernelspec": {
   "display_name": "sbi_env",
   "language": "python",
   "name": "python3"
  },
  "language_info": {
   "codemirror_mode": {
    "name": "ipython",
    "version": 3
   },
   "file_extension": ".py",
   "mimetype": "text/x-python",
   "name": "python",
   "nbconvert_exporter": "python",
   "pygments_lexer": "ipython3",
   "version": "3.12.8"
  }
 },
 "nbformat": 4,
 "nbformat_minor": 5
}
