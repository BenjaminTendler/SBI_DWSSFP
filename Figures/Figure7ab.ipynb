{
 "cells": [
  {
   "cell_type": "code",
   "execution_count": null,
   "id": "a56638f2",
   "metadata": {},
   "outputs": [],
   "source": [
    "##\n",
    "#Import Packages\n",
    "import numpy as np\n",
    "import sys\n",
    "import pickle\n",
    "import torch\n",
    "import matplotlib.pyplot as plt\n",
    "from scipy.signal import savgol_filter\n",
    "\n",
    "##\n",
    "#SBI Specific Packages\n",
    "from sbi import analysis as analysis\n",
    "from sbi import utils as utils"
   ]
  },
  {
   "cell_type": "code",
   "execution_count": null,
   "id": "3b36831f",
   "metadata": {},
   "outputs": [],
   "source": [
    "##\n",
    "#Define Path to Code Database\n",
    "DirPath = '/PATH/TO/bin/'\n",
    "\n",
    "#Define Path for Posterior Object\n",
    "InputPath = '/PATH/TO/Posterior.pkl'\n",
    "\n",
    "#Define Path to Example Data\n",
    "DataPath = '/PATH/TO/ExampleData/'\n",
    "\n",
    "#Define Output Path\n",
    "OutputPath = '/PATH/TO/Output/'"
   ]
  },
  {
   "cell_type": "code",
   "execution_count": null,
   "id": "164bd9ad",
   "metadata": {},
   "outputs": [],
   "source": [
    "##\n",
    "#Load Posterior\n",
    "with open(InputPath, \"rb\") as handle:\n",
    "    posterior = pickle.load(handle)"
   ]
  },
  {
   "cell_type": "code",
   "execution_count": null,
   "id": "5edfb2ca",
   "metadata": {},
   "outputs": [],
   "source": [
    "##\n",
    "#Import Custom Functions\n",
    "sys.path.append(DirPath)\n",
    "from ImportData import *\n",
    "from FreedAnalytical import *"
   ]
  },
  {
   "cell_type": "code",
   "execution_count": null,
   "id": "4041628e",
   "metadata": {},
   "outputs": [],
   "source": [
    "##\n",
    "#Load Data\n",
    "    # bvecs - bvectors (3xn)\n",
    "    # FlipAngles - Flip Angles (degrees) (1xn)\n",
    "    # tau - Diffusion Gradient Duration (seconds) (1xn), \n",
    "    # G - Diffusion Gradient Duration (G/cm - Equivalent to mT/m Divided by 10) (1xn)\n",
    "    # TRs - Repetition Times (seconds) (1xn)\n",
    "    # b0s - Array Defining b0 locations (b0 = 1, dwi = 0) (1xn)\n",
    "\n",
    "bvecs, FlipAngles, tau, G, TRs, _ = ImportTextDataDWSSFP(DataPath)"
   ]
  },
  {
   "cell_type": "code",
   "execution_count": null,
   "id": "0b715776",
   "metadata": {},
   "outputs": [],
   "source": [
    "##\n",
    "#Obtain Arbitrary Tensor / Signal Pairs\n",
    "from sbi.inference import SNPE, simulate_for_sbi\n",
    "\n",
    "##\n",
    "#Define Nuber of Simulations\n",
    "nSim = 1000\n",
    "\n",
    "#Define SNR Level (wrt b0)\n",
    "SNR = [5,10,15,20,25,30,35,40,45,50]\n",
    "\n",
    "##\n",
    "#Define Prior Bounds\n",
    "PriorLow = [0, 0, 0, -0.00025, -0.00025, -0.00025]\n",
    "PriorHigh = [0.0005, 0.0005, 0.0005, 0.00025, 0.00025, 0.00025]\n",
    "\n",
    "##\n",
    "#Define Prior (Uniform)\n",
    "prior = utils.BoxUniform(low=torch.tensor(PriorLow), high=torch.tensor(PriorHigh))\n",
    "\n",
    "##\n",
    "#Define Range of T1 (ms), T2 (ms) & B1 (Normalised) for Forward Simulator\n",
    "T1Range = [300,1200]\n",
    "T2Range = [20,80]\n",
    "B1Range = [0.2,1.2]\n",
    "\n",
    "##\n",
    "#Define Simulator\n",
    "simulator = lambda theta: FreedDWSSFPTensor_Conditional_SBIWrapper(theta,G,tau,TRs,FlipAngles,bvecs,B1Range,T1Range,T2Range,Cond=True)\n",
    "\n",
    "##\n",
    "#Estimate Tensor / Signal Pairs - Exagerate no Simulations to Account for NaNs (i.e. Invalid Tensors)\n",
    "DArb, SArb = simulate_for_sbi(simulator, prior, nSim*5)"
   ]
  },
  {
   "cell_type": "code",
   "execution_count": null,
   "id": "845c3674",
   "metadata": {},
   "outputs": [],
   "source": [
    "##\n",
    "#Obtain nSim Valid Tensor / Signal Pairs for Evaluation\n",
    "Finite_idx = np.squeeze(np.argwhere(np.isfinite(SArb[:,0])))\n",
    "DArb = DArb[Finite_idx[0:nSim],:]\n",
    "SArb = SArb[Finite_idx[0:nSim],:]"
   ]
  },
  {
   "cell_type": "code",
   "execution_count": null,
   "id": "d8bbda9a",
   "metadata": {},
   "outputs": [],
   "source": [
    "##\n",
    "#Define Number of Posterior Samples per Evaluation\n",
    "Samples = 1000\n",
    "\n",
    "##\n",
    "#Initialise Matrices\n",
    "D_NPE = np.zeros([Samples,6,nSim,len(SNR)])\n",
    "\n",
    "##\n",
    "#Perform NPE Evalution\n",
    "for l in range(len(SNR)):\n",
    "    SNoise = SArb*1\n",
    "    SNoise[:,:-3] = np.abs(SArb[:,:-3] + (torch.randn(*SArb[:,:-3].shape)*SArb[:,0][:,np.newaxis]/SNR[l]))\n",
    "    for k in range(nSim):  \n",
    "        D_NPE[:,:,k,l] = posterior.sample((Samples,), x=SNoise[k,:],show_progress_bars=False)"
   ]
  },
  {
   "cell_type": "code",
   "execution_count": null,
   "id": "9adc66a1",
   "metadata": {},
   "outputs": [],
   "source": [
    "##\n",
    "#Generate Mean & Standard Deviation as a Function of the Number of Samples\n",
    "\n",
    "##\n",
    "#Initialise Matrix\n",
    "Mean_nSamples = np.zeros(D_NPE.shape)\n",
    "STD_nSamples = np.zeros(D_NPE.shape)\n",
    "\n",
    "##\n",
    "#Calcuate Mean & Standard Deviation as Function of no. Samples\n",
    "for k in range(1,D_NPE.shape[0]+1):\n",
    "    Mean_nSamples[k-1,...] = np.mean(D_NPE[:k,...],axis=0) \n",
    "    STD_nSamples[k-1,...] = np.std(D_NPE[:k,...],axis=0)"
   ]
  },
  {
   "cell_type": "code",
   "execution_count": null,
   "id": "f51a72ff",
   "metadata": {},
   "outputs": [],
   "source": [
    "##\n",
    "#Define Maximum Index of no. Samples for Figure\n",
    "nSamples = 50 \n",
    "\n",
    "##\n",
    "#Median over the no. Repeats & Tensor Coefficients\n",
    "Mean_nSamples_av = np.median(np.abs(Mean_nSamples[:nSamples,...]),axis=(1,2))\n",
    "STD_nSamples_av = np.median(np.abs(STD_nSamples[:nSamples,...]),axis=(1,2))"
   ]
  },
  {
   "cell_type": "code",
   "execution_count": null,
   "id": "fe250bbf",
   "metadata": {},
   "outputs": [],
   "source": [
    "##\n",
    "#Perform Smoothing to Improve Plot Visualisation\n",
    "Mean_nSamples_av_Smooth = savgol_filter(savgol_filter(Mean_nSamples_av,5,2,axis=0),5,2,axis=1)\n",
    "STD_nSamples_av_Smooth = savgol_filter(savgol_filter(STD_nSamples_av[1:],5,2,axis=0),5,2,axis=1)"
   ]
  },
  {
   "cell_type": "code",
   "execution_count": null,
   "id": "708ac56b",
   "metadata": {},
   "outputs": [],
   "source": [
    "##\n",
    "#Plot Figure\n",
    "fig, axs = plt.subplots(1, 2)\n",
    "fig.set_size_inches(12,3)\n",
    "\n",
    "##\n",
    "#Mean\n",
    "im1 = axs[0].imshow(np.transpose(Mean_nSamples_av_Smooth)*10**4,vmin=1.5,vmax=2,aspect='auto')\n",
    "cbar = fig.colorbar(im1, extend='both', shrink=0.8, ax=axs[0])\n",
    "cbar.set_label(r'D ($\\cdot 10^{-4}$ mm$^{2}$/s)', rotation=90, size=10)\n",
    "axs[0].set_yticks((range(len(SNR))),(SNR),size=12)\n",
    "axs[0].set_xticks(range(int(np.round(Mean_nSamples_av.shape[0]/5))-1,Mean_nSamples_av.shape[0],int(np.round(Mean_nSamples_av.shape[0]/5))),range(int(np.round(Mean_nSamples_av.shape[0]/5)),Mean_nSamples_av.shape[0]+1,int(np.round(Mean_nSamples_av.shape[0]/5))), size=12)\n",
    "axs[0].set_xlabel('No. Post. Samp', size=12)\n",
    "axs[0].set_ylabel('SNR', size=12)\n",
    "axs[0].text(-0.15, 1.05, '(a) Mean (Averaged)', transform=axs[0].transAxes, size=12)\n",
    "\n",
    "##\n",
    "#Standard Deviation\n",
    "im2 = axs[1].imshow(np.transpose(np.concatenate((STD_nSamples_av_Smooth[0,:][np.newaxis,:]*np.nan,STD_nSamples_av_Smooth*10**4),axis=0)),vmin=0,vmax=0.25,aspect='auto')\n",
    "cbar = fig.colorbar(im2, extend='both', shrink=0.8, ax=axs[1])\n",
    "cbar.set_label(r'D ($\\cdot 10^{-4}$ mm$^{2}$/s)', rotation=90, size=10)\n",
    "axs[1].set_yticks((range(len(SNR))),(SNR),size=12)\n",
    "axs[1].set_xticks(range(int(np.round(Mean_nSamples_av.shape[0]/5))-1,Mean_nSamples_av.shape[0],int(np.round(Mean_nSamples_av.shape[0]/5))),range(int(np.round(Mean_nSamples_av.shape[0]/5)),Mean_nSamples_av.shape[0]+1,int(np.round(Mean_nSamples_av.shape[0]/5))), size=12)\n",
    "axs[1].set_xlabel('No. Post. Samp', size=12)\n",
    "axs[1].set_ylabel('SNR', size=12)\n",
    "axs[1].text(-0.15, 1.05, '(b) Standard Deviation (Averaged)', transform=axs[1].transAxes, size=12)"
   ]
  },
  {
   "cell_type": "code",
   "execution_count": null,
   "id": "c8cc82f0",
   "metadata": {},
   "outputs": [],
   "source": [
    "##\n",
    "#Save Figure\n",
    "fig.savefig(''.join([OutputPath,'Figure7ab.pdf']),dpi=300,format='pdf',bbox_inches='tight')"
   ]
  }
 ],
 "metadata": {
  "kernelspec": {
   "display_name": "sbi_env",
   "language": "python",
   "name": "python3"
  },
  "language_info": {
   "codemirror_mode": {
    "name": "ipython",
    "version": 3
   },
   "file_extension": ".py",
   "mimetype": "text/x-python",
   "name": "python",
   "nbconvert_exporter": "python",
   "pygments_lexer": "ipython3",
   "version": "3.12.8"
  }
 },
 "nbformat": 4,
 "nbformat_minor": 5
}
