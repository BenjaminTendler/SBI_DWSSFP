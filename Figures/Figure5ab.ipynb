{
 "cells": [
  {
   "cell_type": "code",
   "execution_count": null,
   "metadata": {},
   "outputs": [],
   "source": [
    "##\n",
    "#Import Packages\n",
    "import numpy as np\n",
    "import sys\n",
    "import pickle\n",
    "import torch\n",
    "import matplotlib.pyplot as plt\n",
    "from scipy.optimize import curve_fit\n",
    "from scipy.stats import iqr\n",
    "\n",
    "##\n",
    "#SBI Specific Packages\n",
    "from sbi import analysis as analysis\n",
    "from sbi import utils as utils"
   ]
  },
  {
   "cell_type": "code",
   "execution_count": null,
   "metadata": {},
   "outputs": [],
   "source": [
    "##\n",
    "#Define Path to Code Database\n",
    "DirPath = '/PATH/TO/bin/'\n",
    "\n",
    "#Define Path for Posterior Object\n",
    "InputPath = '/PATH/TO/Posterior.pkl'\n",
    "\n",
    "#Define Path to Example Data\n",
    "DataPath = '/PATH/TO/ExampleData/'\n",
    "\n",
    "#Define Output Path\n",
    "OutputPath = '/PATH/TO/Output/'"
   ]
  },
  {
   "cell_type": "code",
   "execution_count": null,
   "metadata": {},
   "outputs": [],
   "source": [
    "##\n",
    "#Load Posterior\n",
    "with open(PostPath, \"rb\") as handle:\n",
    "    posterior = pickle.load(handle)"
   ]
  },
  {
   "cell_type": "code",
   "execution_count": null,
   "metadata": {},
   "outputs": [],
   "source": [
    "##\n",
    "#Import Custom Functions\n",
    "sys.path.append(DirPath)\n",
    "from ImportData import *\n",
    "from FreedAnalytical import *"
   ]
  },
  {
   "cell_type": "code",
   "execution_count": null,
   "metadata": {},
   "outputs": [],
   "source": [
    "##\n",
    "#Load Data\n",
    "    # bvecs - bvectors (3xn)\n",
    "    # FlipAngles - Flip Angles (degrees) (1xn)\n",
    "    # tau - Diffusion Gradient Duration (seconds) (1xn), \n",
    "    # G - Diffusion Gradient Duration (G/cm - Equivalent to mT/m Divided by 10) (1xn)\n",
    "    # TRs - Repetition Times (seconds) (1xn)\n",
    "    # b0s - Array Defining b0 locations (b0 = 1, dwi = 0) (1xn)\n",
    "\n",
    "bvecs, FlipAngles, tau, G, TRs, _ = ImportTextDataDWSSFP(DataPath)"
   ]
  },
  {
   "cell_type": "code",
   "execution_count": null,
   "metadata": {},
   "outputs": [],
   "source": [
    "##\n",
    "#Define Defaults for Evaluation\n",
    "\n",
    "##\n",
    "#Define Diffusion Tensor (mm/s)\n",
    "Dxx, Dyy, Dzz, Dxy, Dxz, Dyz = np.array([4, 3, 2, -1, 1, -2])*10**-4\n",
    "\n",
    "##\n",
    "#Define Relaxation Times \n",
    "T1 = 650\n",
    "T2 = 35\n",
    "\n",
    "##\n",
    "#Relative B1\n",
    "B1 = 1\n",
    "\n",
    "##\n",
    "#Number of Repeats\n",
    "nRepeats = 1000\n",
    "\n",
    "##\n",
    "#Define Number of Posterior Samples per Evaluation\n",
    "Samples = 100\n",
    "\n",
    "#\n",
    "#Convert into Array\n",
    "theta=np.array([Dxx, Dyy, Dzz, Dxy, Dxz, Dyz])"
   ]
  },
  {
   "cell_type": "code",
   "execution_count": null,
   "metadata": {},
   "outputs": [],
   "source": [
    "##\n",
    "#Perform SNR comparisons - NPE and NLLS\n",
    "\n",
    "##\n",
    "#Define SNR levels (wrt b0)\n",
    "SNR = [5, 10, 15, 20, 25, 30, 35, 40, 45, 50]\n",
    "\n",
    "##\n",
    "#Define Initial Fitting Point & Bounds (NLLS)\n",
    "Init = np.array([4, 3, 2, -1, 1, -2])*10**-4\n",
    "low = np.array([0, 0, 0, -1, -1, -1])*10**-3\n",
    "high = np.array([1, 1, 1, 1, 1, 1])*10**-3\n",
    "\n",
    "##\n",
    "#Initialise Matrices\n",
    "ThetaSBISNR = np.zeros((6,len(SNR),nRepeats))\n",
    "ThetaSBISNR_std = np.zeros((6,len(SNR),nRepeats))\n",
    "ThetaLSSNR = np.zeros((6,len(SNR),nRepeats))\n",
    "\n",
    "##\n",
    "#Perform Evaluation\n",
    "for l in range(nRepeats):\n",
    "    for k in range(len(SNR)):\n",
    "\n",
    "        ##\n",
    "        #Generate Signal + Noise\n",
    "        S = FreedDWSSFPTensor_Conditional(theta,G,tau,TRs,FlipAngles,bvecs,B1,T1,T2)\n",
    "        S[:-3] = np.abs(S[:-3] + (np.random.randn(S[:-3].shape[0])*S[0]/SNR[k]))\n",
    "\n",
    "        ##\n",
    "        #Estimate Posterior Samples\n",
    "        Post = posterior.sample((Samples,), x=torch.from_numpy(S[np.newaxis,:]))\n",
    "\n",
    "        ##\n",
    "        #Take Mean of Posterior Samples for Evaluation\n",
    "        ThetaSBISNR[:,k,l] = torch.mean(Post,dim=0)\n",
    "\n",
    "        ##\n",
    "        #Perform NLLS\n",
    "        ThetaLSSNR[:,k,l], _ = curve_fit(lambda x, *theta: FreedDWSSFPTensor_curve_fit(x, theta, G, tau, TRs, FlipAngles, bvecs, B1, T1, T2), 1, S[:-3], p0 = Init, bounds = (low,high),method='trf',maxfev=10**6)"
   ]
  },
  {
   "cell_type": "code",
   "execution_count": null,
   "metadata": {},
   "outputs": [],
   "source": [
    "##\n",
    "#Average Over Number of Repeats (NPE & NLLS)\n",
    "ThetaSBISNR_mean = np.mean(ThetaSBISNR,axis=2)\n",
    "ThetaLSSNR_mean = np.mean(ThetaLSSNR,axis=2)"
   ]
  },
  {
   "cell_type": "code",
   "execution_count": null,
   "metadata": {},
   "outputs": [],
   "source": [
    "##\n",
    "#Plot Figure\n",
    "fig, axs = plt.subplots(1, 2)\n",
    "fig.set_size_inches(12,6)\n",
    "\n",
    "##\n",
    "#NPE\n",
    "im1 = axs[0].imshow(np.concatenate((theta[:,np.newaxis],(ThetaSBISNR_mean)),axis=1)*10**4,vmin=-2,vmax=4)\n",
    "rect = plt.Rectangle((-0.4, -0.4), 1,5.85, fill=False, color=\"limegreen\", linewidth=3)\n",
    "axs[0].add_patch(rect)\n",
    "cbar = fig.colorbar(im1, extend='both', shrink=0.4, ax=axs[0])\n",
    "cbar.set_label('D (x10$^{-4}$ mm$^{2}$/s)', rotation=90, size=10)\n",
    "axs[0].set_xticks((1,len(SNR)),(SNR[0],np.round(SNR[-1])),size=12)\n",
    "axs[0].set_yticks((0,1,2,3,4,5),('$D_{xx}$','$D_{yy}$','$D_{zz}$','$D_{xy}$','$D_{xz}$','$D_{yz}$'), size=12)\n",
    "axs[0].set_xlabel('SNR', size=12)\n",
    "axs[0].text(-0.15, 1.05, '(a) NPE', transform=axs[0].transAxes, size=15)\n",
    "\n",
    "##\n",
    "#NLLS\n",
    "im2 = axs[1].imshow(np.concatenate((theta[:,np.newaxis],(ThetaLSSNR_mean)),axis=1)*10**4,vmin=-2,vmax=4)\n",
    "rect = plt.Rectangle((-0.4, -0.4), 1,5.85, fill=False, color=\"limegreen\", linewidth=3)\n",
    "axs[1].add_patch(rect)\n",
    "cbar = fig.colorbar(im2, extend='both', shrink=0.4, ax=axs[1])\n",
    "cbar.set_label('D (x10$^{-4}$ mm$^{2}$/s)', rotation=90, size=10)\n",
    "axs[1].set_xticks((1,len(SNR)),(SNR[0],np.round(SNR[-1])),size=12)\n",
    "axs[1].set_yticks((0,1,2,3,4,5),('$D_{xx}$','$D_{yy}$','$D_{zz}$','$D_{xy}$','$D_{xz}$','$D_{yz}$'), size=12)\n",
    "axs[1].set_xlabel('SNR', size=12)\n",
    "axs[1].text(-0.15, 1.05, '(b) NLLS', transform=axs[1].transAxes, size=15)"
   ]
  },
  {
   "cell_type": "code",
   "execution_count": null,
   "metadata": {},
   "outputs": [],
   "source": [
    "##\n",
    "#Calculate Difference (NPE)\n",
    "SNRDiff = np.median(np.abs((ThetaSBISNR_mean-theta[:,np.newaxis]))/np.abs(theta[:,np.newaxis])*100)\n",
    "print(''.join(['Median Difference versus Ground Truth (NPE) = ','{0:.2f}'.format(SNRDiff), '%']))\n",
    "\n",
    "##\n",
    "#Calculate Interquartile Range (NPE)\n",
    "SNRDiffIQR = iqr(np.abs((ThetaSBISNR_mean-theta[:,np.newaxis]))/np.abs(theta[:,np.newaxis])*100)\n",
    "print(''.join(['IQR = ','{0:.2f}'.format(SNRDiffIQR), '%']))\n"
   ]
  },
  {
   "cell_type": "code",
   "execution_count": null,
   "metadata": {},
   "outputs": [],
   "source": [
    "#Save Figure\n",
    "fig.savefig(''.join([OutputPath,'Figure5ab.pdf']),dpi=300,format='pdf',bbox_inches='tight')"
   ]
  }
 ],
 "metadata": {
  "kernelspec": {
   "display_name": "sbi_env",
   "language": "python",
   "name": "python3"
  },
  "language_info": {
   "codemirror_mode": {
    "name": "ipython",
    "version": 3
   },
   "file_extension": ".py",
   "mimetype": "text/x-python",
   "name": "python",
   "nbconvert_exporter": "python",
   "pygments_lexer": "ipython3",
   "version": "3.12.8"
  }
 },
 "nbformat": 4,
 "nbformat_minor": 2
}
