{
 "cells": [
  {
   "cell_type": "code",
   "execution_count": null,
   "metadata": {},
   "outputs": [],
   "source": [
    "##\n",
    "#Import Packages\n",
    "import numpy as np\n",
    "import sys\n",
    "import matplotlib.pyplot as plt\n",
    "from scipy.optimize import curve_fit"
   ]
  },
  {
   "cell_type": "code",
   "execution_count": null,
   "metadata": {},
   "outputs": [],
   "source": [
    "##\n",
    "#Define Path to Code Database\n",
    "DirPath = '/PATH/TO/bin/'\n",
    "\n",
    "#Define Path to Example Data\n",
    "DataPath = '/PATH/TO/ExampleData/'\n",
    "\n",
    "#Define Output Path\n",
    "OutputPath = '/PATH/TO/Output/'"
   ]
  },
  {
   "cell_type": "code",
   "execution_count": null,
   "metadata": {},
   "outputs": [],
   "source": [
    "##\n",
    "#Import Custom Functions\n",
    "sys.path.append(DirPath)\n",
    "from ImportData import *\n",
    "from FreedAnalytical import *"
   ]
  },
  {
   "cell_type": "code",
   "execution_count": null,
   "metadata": {},
   "outputs": [],
   "source": [
    "##\n",
    "#Define Default Properties\n",
    "\n",
    "##\n",
    "#Define Diffusion Tensor (mm/s) (Dxx, Dyy, Dzz, Dxy, Dxz, Dyz) - Equivalent to Values in a Corpus Callosum Voxel\n",
    "D = np.array([1.6254e-04,  8.0779e-05,  8.1765e-05, -4.0544e-05, -3.9950e-05, 2.1640e-05])\n",
    "\n",
    "##\n",
    "#Define Relaxation Times & B1 (Mean Values in Post-Mortem Brain)\n",
    "T1 = 650\n",
    "T2 = 35\n",
    "B1 = 1\n",
    "\n",
    "##\n",
    "#Define Comparison Relaxation Times & B1\n",
    "T1Comp = 800\n",
    "T2Comp = 60\n",
    "B1Comp = 0.5\n"
   ]
  },
  {
   "cell_type": "code",
   "execution_count": null,
   "metadata": {},
   "outputs": [],
   "source": [
    "##\n",
    "#Load Data\n",
    "    # bvecs - bvectors (3xn)\n",
    "    # FlipAngles - Flip Angles (degrees) (1xn)\n",
    "    # tau - Diffusion Gradient Duration (seconds) (1xn), \n",
    "    # G - Diffusion Gradient Duration (G/cm - Equivalent to mT/m Divided by 10) (1xn)\n",
    "    # TRs - Repetition Times (seconds) (1xn)\n",
    "    # b0s - Array Defining b0 locations (b0 = 1, dwi = 0) (1xn)\n",
    "\n",
    "bvecs, FlipAngles, tau, G, TRs, b0s = ImportTextDataDWSSFP(DataPath)"
   ]
  },
  {
   "cell_type": "code",
   "execution_count": null,
   "metadata": {},
   "outputs": [],
   "source": [
    "##\n",
    "#Select Volumes Corresponding to the First Flip Angle (24o) \n",
    "bvecs = bvecs[:,FlipAngles==FlipAngles[0]]\n",
    "tau = tau[FlipAngles==FlipAngles[0]]\n",
    "G = G[FlipAngles==FlipAngles[0]]\n",
    "TRs = TRs[FlipAngles==FlipAngles[0]]\n",
    "b0s = b0s[FlipAngles==FlipAngles[0]]\n",
    "FlipAngles = FlipAngles[FlipAngles==FlipAngles[0]]"
   ]
  },
  {
   "cell_type": "code",
   "execution_count": null,
   "metadata": {},
   "outputs": [],
   "source": [
    "##\n",
    "#Forward Simulate Comparison Signal\n",
    "S = FreedDWSSFPTensor(G, tau, TRs, FlipAngles*B1, T1, T2, bvecs, *D)"
   ]
  },
  {
   "cell_type": "code",
   "execution_count": null,
   "metadata": {},
   "outputs": [],
   "source": [
    "##\n",
    "#Estimate T1, T2 & B1 Leading to Identical Signal Profile\n",
    "Dependencies, _ = curve_fit(lambda x, *theta: FreedDWSSFPTensor_curve_fit(x, theta, G, tau, TRs, FlipAngles, bvecs, B1Comp, T1Comp, T2Comp, Norm = True), 1, S/S[0], p0 = D/2 ,method='trf',maxfev=10**6,ftol=1e-12, xtol=1e-12, gtol=1e-12)"
   ]
  },
  {
   "cell_type": "code",
   "execution_count": null,
   "metadata": {},
   "outputs": [],
   "source": [
    "##\n",
    "#Reconstruct Signal\n",
    "SRecon = FreedDWSSFPTensor(G, tau, TRs, FlipAngles*B1Comp, T1Comp, T2Comp, bvecs, *Dependencies)\n",
    "\n",
    "##\n",
    "#Estimate Ratios of Diffusion Coefficients\n",
    "DRatio = D/Dependencies"
   ]
  },
  {
   "cell_type": "code",
   "execution_count": null,
   "metadata": {},
   "outputs": [],
   "source": [
    "##\n",
    "#Plot Degenerate Signals (Only Plot One b0)\n",
    "fig = plt.figure()\n",
    "idx = np.flatnonzero(b0s)[-1]\n",
    "plt.plot(S[idx:]/S[idx],linewidth=2)\n",
    "plt.plot(SRecon[idx:]/SRecon[idx],linestyle='--',linewidth=2)\n",
    "plt.yticks([0,1])\n",
    "plt.ylim([0,1])\n",
    "plt.xticks([0,int(S[idx+1:].shape[0])/2,S[idx+1:].shape[0]], size=12)\n",
    "plt.ylabel('Diffusion Attenuation (Normalised)', size=12)\n",
    "plt.xlabel('Direction Number', size=12)\n",
    "plt.legend([''.join([r'$\\mathbf{D} = \\{D_{xx}, D_{yy}, D_{zz}, D_{xy}, D_{xz}, D_{yz}$}']), \n",
    "            ''.join([r'$\\mathbf{D} = \\{$D$_{xx}$/',str(round(DRatio[0],1)),r', D$_{yy}$/',str(round(DRatio[1],1)),r', D$_{zz}$/',str(round(DRatio[2],1)),r', D$_{xy}$/',str(round(DRatio[3],1)),r', D$_{xy}$/',str(round(DRatio[4],1)),r', D$_{yz}$/',str(round(DRatio[5],1)),'}'])])"
   ]
  },
  {
   "cell_type": "code",
   "execution_count": null,
   "metadata": {},
   "outputs": [],
   "source": [
    "#Save Figure\n",
    "fig.savefig(''.join([OutputPath,'Figure2.pdf']),dpi=300,format='pdf',bbox_inches='tight')"
   ]
  }
 ],
 "metadata": {
  "kernelspec": {
   "display_name": "sbi_env",
   "language": "python",
   "name": "python3"
  },
  "language_info": {
   "codemirror_mode": {
    "name": "ipython",
    "version": 3
   },
   "file_extension": ".py",
   "mimetype": "text/x-python",
   "name": "python",
   "nbconvert_exporter": "python",
   "pygments_lexer": "ipython3",
   "version": "3.12.8"
  }
 },
 "nbformat": 4,
 "nbformat_minor": 2
}
