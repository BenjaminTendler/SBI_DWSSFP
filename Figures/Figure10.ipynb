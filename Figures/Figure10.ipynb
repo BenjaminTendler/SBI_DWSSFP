{
 "cells": [
  {
   "cell_type": "code",
   "execution_count": null,
   "id": "6f019309",
   "metadata": {},
   "outputs": [],
   "source": [
    "##\n",
    "#Import Packages\n",
    "import numpy as np\n",
    "import nibabel as nib\n",
    "import sys\n",
    "import matplotlib.pyplot as plt\n",
    "import pickle\n",
    "import torch\n",
    "\n",
    "##\n",
    "#SBI Specific Packages\n",
    "from sbi import analysis as analysis\n",
    "from sbi import utils as utils"
   ]
  },
  {
   "cell_type": "code",
   "execution_count": null,
   "id": "2585df0e",
   "metadata": {},
   "outputs": [],
   "source": [
    "##\n",
    "#Define Path to Code Database\n",
    "DirPath = '/PATH/TO/bin/'\n",
    "\n",
    "#Define Path for Posterior Object\n",
    "InputPath = '/PATH/TO/Posterior.pkl'\n",
    "\n",
    "#Define Path to Example Data\n",
    "DataPath = '/PATH/TO/ExampleData/'\n",
    "\n",
    "#Define Output Path\n",
    "OutputPath = '/PATH/TO/Output/'"
   ]
  },
  {
   "cell_type": "code",
   "execution_count": null,
   "id": "b5af4132",
   "metadata": {},
   "outputs": [],
   "source": [
    "##\n",
    "#Import Custom Functions\n",
    "sys.path.append(DirPath)\n",
    "from ImportData import *\n",
    "from FreedAnalytical import *"
   ]
  },
  {
   "cell_type": "code",
   "execution_count": null,
   "id": "e45777d4",
   "metadata": {},
   "outputs": [],
   "source": [
    "##\n",
    "#Load Posterior\n",
    "with open(InputPath, \"rb\") as handle:\n",
    "    posterior = pickle.load(handle)"
   ]
  },
  {
   "cell_type": "code",
   "execution_count": null,
   "id": "b90fc134",
   "metadata": {},
   "outputs": [],
   "source": [
    "##\n",
    "#Load Data\n",
    "    # Data - DW-SSFP Data (4D)\n",
    "    # T1Map - T1 Map (ms, 3D)\n",
    "    # T2Map - T2 Map (ms, 3D)\n",
    "    # B1Map - B1 Map (Normalised, 3D)\n",
    "    # Mask - Mask (Binary, 3D)\n",
    "    # noisefloor - noisefloor estimate (1xn)\n",
    "    # bvecs - bvectors (3xn)\n",
    "    # FlipAngles - Flip Angles (degrees) (1xn)\n",
    "    # tau - Diffusion Gradient Duration (seconds) (1xn), \n",
    "    # G - Diffusion Gradient Duration (G/cm - Equivalent to mT/m Divided by 10) (1xn)\n",
    "    # TRs - Repetition Times (seconds) (1xn)\n",
    "    # b0s - Array Defining b0 Locations (b0 = 1, dwi = 0) (1xn)\n",
    "\n",
    "Data, T1Map, T2Map, B1Map, Mask, noisefloor, bvecs, FlipAngles, tau, G, TRs, b0s = ImportDataDWSSFP(DataPath)"
   ]
  },
  {
   "cell_type": "code",
   "execution_count": null,
   "id": "3175e3ed",
   "metadata": {},
   "outputs": [],
   "source": [
    "##\n",
    "#Estimate Mean Noisefloor\n",
    "Noisefloor_Mean = np.mean(noisefloor)"
   ]
  },
  {
   "cell_type": "code",
   "execution_count": null,
   "id": "786a7bbe",
   "metadata": {},
   "outputs": [],
   "source": [
    "##\n",
    "#Normalise Data by S0 (Estimate S0 per Flip Angle) & Perform Noisefloor Correction \n",
    "\n",
    "##\n",
    "#Define Unique Locations\n",
    "Values, Index = np.unique(FlipAngles, return_index=True)\n",
    "\n",
    "##\n",
    "#Estimate Normalised Data for each Flip Angle\n",
    "for idx, k in enumerate(Index):\n",
    "    #Calculate Theoretical Signal Amplitude\n",
    "    b0 = FreedDWSSFP(G[k], tau[k], TRs[k], FlipAngles[k]*B1Map.data, 0, T1Map.data, T2Map.data)\n",
    "    #Estimate S0 (Incorporating Noisefloor Contribution)\n",
    "    S0 = np.abs(np.mean(Data.data[:,:,:,(b0s == 1) & (FlipAngles == Values[idx])],axis = 3)**2-Noisefloor_Mean**2)**0.5/b0*Mask.data\n",
    "    #Divide by S0 & Remove NoiseFloor\n",
    "    Data.data[:,:,:,FlipAngles == Values[idx]] = np.abs(Data.data[:,:,:,FlipAngles == Values[idx]]**2-Noisefloor_Mean**2)**0.5/S0[:,:,:,np.newaxis]"
   ]
  },
  {
   "cell_type": "code",
   "execution_count": null,
   "id": "84ecc4fd",
   "metadata": {},
   "outputs": [],
   "source": [
    "##\n",
    "#Obtain Posterior Distribution\n",
    "\n",
    "##\n",
    "#Define Number of Samples\n",
    "Samples = 4500\n",
    "\n",
    "##\n",
    "#Pick Voxel (Note this is Not the Same Data Analysed in Figure 10 of the Manuscript, Here being Drawn from the Example Data)\n",
    "k = 10; l = 13; m = 9 # Callosum\n",
    "\n",
    "##\n",
    "#Concatenate Data\n",
    "DataVoxel = np.concatenate((Data.data[k,l,m,:],[B1Map.data[k,l,m]/100],[T1Map.data[k,l,m]/100000],[T2Map.data[k,l,m]/10000]))\n",
    "\n",
    "##\n",
    "#Obtain Posterior\n",
    "SBI_Output = posterior.sample((Samples,), x=torch.from_numpy(DataVoxel[np.newaxis,:]), show_progress_bars = False)"
   ]
  },
  {
   "cell_type": "code",
   "execution_count": null,
   "id": "e7b566c9",
   "metadata": {},
   "outputs": [],
   "source": [
    "##\n",
    "#Plot\n",
    "SBIPlot = analysis.pairplot(SBI_Output*10000, limits=[[0, 3], [0, 3], [0, 3], [-1, 1], [-1, 1], [-1, 1]], labels = ([r'D$_{xx}$ ($\\cdot 10^{-4}$ mm$^2$/s)',r'D$_{yy}$ ($\\cdot 10^{-4}$ mm$^2$/s)',r'D$_{zz}$ ($\\cdot 10^{-4}$ mm$^2$/s)',r'D$_{xy}$ ($\\cdot 10^{-4}$ mm$^2$/s)',r'D$_{xz}$ ($\\cdot 10^{-4}$ mm$^2$/s)',r'D$_{yz}$ ($\\cdot 10^{-4}$ mm$^2$/s)']), figsize=(12, 12))"
   ]
  },
  {
   "cell_type": "code",
   "execution_count": null,
   "id": "718729d9",
   "metadata": {},
   "outputs": [],
   "source": [
    "##\n",
    "#Save Figure\n",
    "SBIPlot[0].savefig(''.join([OutputPath,'Figure10.pdf']),dpi=300,format='pdf',bbox_inches='tight')"
   ]
  }
 ],
 "metadata": {
  "kernelspec": {
   "display_name": "sbi_env",
   "language": "python",
   "name": "python3"
  },
  "language_info": {
   "codemirror_mode": {
    "name": "ipython",
    "version": 3
   },
   "file_extension": ".py",
   "mimetype": "text/x-python",
   "name": "python",
   "nbconvert_exporter": "python",
   "pygments_lexer": "ipython3",
   "version": "3.12.8"
  }
 },
 "nbformat": 4,
 "nbformat_minor": 5
}
