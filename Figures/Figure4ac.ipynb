{
 "cells": [
  {
   "cell_type": "code",
   "execution_count": null,
   "metadata": {},
   "outputs": [],
   "source": [
    "##\n",
    "#Import Packages\n",
    "import numpy as np\n",
    "import sys\n",
    "import pickle\n",
    "import torch\n",
    "import matplotlib.pyplot as plt\n",
    "from scipy.stats import iqr\n",
    "\n",
    "##\n",
    "#SBI Specific Packages\n",
    "from sbi import analysis as analysis\n",
    "from sbi import utils as utils"
   ]
  },
  {
   "cell_type": "code",
   "execution_count": null,
   "metadata": {},
   "outputs": [],
   "source": [
    "##\n",
    "#Define Path to Code Database\n",
    "DirPath = '/PATH/TO/bin/'\n",
    "\n",
    "#Define Path for Posterior Object\n",
    "InputPath = '/PATH/TO/Posterior.pkl'\n",
    "\n",
    "#Define Path to Example Data\n",
    "DataPath = '/PATH/TO/ExampleData/'\n",
    "\n",
    "#Define Output Path\n",
    "OutputPath = '/PATH/TO/Output/'"
   ]
  },
  {
   "cell_type": "code",
   "execution_count": null,
   "metadata": {},
   "outputs": [],
   "source": [
    "##\n",
    "#Load Posterior\n",
    "with open(InputPath, \"rb\") as handle:\n",
    "    posterior = pickle.load(handle)"
   ]
  },
  {
   "cell_type": "code",
   "execution_count": null,
   "metadata": {},
   "outputs": [],
   "source": [
    "##\n",
    "#Import Custom Functions\n",
    "sys.path.append(DirPath)\n",
    "from ImportData import *\n",
    "from FreedAnalytical import *"
   ]
  },
  {
   "cell_type": "code",
   "execution_count": null,
   "metadata": {},
   "outputs": [],
   "source": [
    "##\n",
    "#Load Data\n",
    "    # bvecs - bvectors (3xn)\n",
    "    # FlipAngles - Flip Angles (degrees) (1xn)\n",
    "    # tau - Diffusion Gradient Duration (seconds) (1xn), \n",
    "    # G - Diffusion Gradient Duration (G/cm - Equivalent to mT/m Divided by 10) (1xn)\n",
    "    # TRs - Repetition Times (seconds) (1xn)\n",
    "    # b0s - Array Defining b0 locations (b0 = 1, dwi = 0) (1xn)\n",
    "\n",
    "bvecs, FlipAngles, tau, G, TRs, _ = ImportTextDataDWSSFP(DataPath)"
   ]
  },
  {
   "cell_type": "code",
   "execution_count": null,
   "metadata": {},
   "outputs": [],
   "source": [
    "##\n",
    "#Evaluate T1, T2 & B1 Conditioning versus Ground Truth\n",
    "\n",
    "##\n",
    "#Define Relaxation & Flip Angle Arrays (10 Elements per Array)\n",
    "T1 = np.arange(300,1300,100)\n",
    "T2 = np.arange(20,81,60/9)\n",
    "B1 = np.arange(0.2, 1.3, 1/9)\n",
    "\n",
    "##\n",
    "#Define Number of Posterior Samples per Evaluation\n",
    "Samples = 100\n",
    "\n",
    "##\n",
    "#Define Diffusion Tensor (mm/s)\n",
    "Dxx, Dyy, Dzz, Dxy, Dxz, Dyz = np.array([4, 3, 2, -1, 1, -2])*10**-4\n",
    "\n",
    "#Convert into Array\n",
    "theta=np.array([Dxx, Dyy, Dzz, Dxy, Dxz, Dyz])\n",
    "\n",
    "##\n",
    "#Initialise Array\n",
    "ThetaOutput = np.zeros((B1.shape[0],T1.shape[0],T2.shape[0],theta.shape[0]))\n",
    "\n",
    "##\n",
    "#Perform Parameter Estimation\n",
    "for k in range(B1.shape[0]):\n",
    "    for l in range(T1.shape[0]):\n",
    "        for m in range(T2.shape[0]):\n",
    "            #Estimate Signal\n",
    "            S = FreedDWSSFPTensor_Conditional(theta,G,tau,TRs,FlipAngles,bvecs,B1[k],T1[l],T2[m])\n",
    "            #Estimate Posterior Samples\n",
    "            Post = posterior.sample((Samples,), x=torch.from_numpy(S[np.newaxis,:]))\n",
    "            #Take Mean for Evaluation\n",
    "            ThetaOutput[k,l,m,:] = torch.mean(Post,dim=0)\n"
   ]
  },
  {
   "cell_type": "code",
   "execution_count": null,
   "metadata": {},
   "outputs": [],
   "source": [
    "##\n",
    "#Define Elements to Create Output Plots\n",
    "ThetaB1 = np.squeeze(ThetaOutput[:,3,2])\n",
    "ThetaT1 = np.squeeze(ThetaOutput[7,:,2])\n",
    "ThetaT2 = np.squeeze(ThetaOutput[7,3,:])"
   ]
  },
  {
   "cell_type": "code",
   "execution_count": null,
   "metadata": {},
   "outputs": [],
   "source": [
    "##\n",
    "#Create Figure\n",
    "fig, axs = plt.subplots(2, 2)\n",
    "fig.set_size_inches(12,6)\n",
    "\n",
    "#T1\n",
    "im1 = axs[0,0].imshow(np.concatenate((theta[:,np.newaxis],np.transpose(ThetaT1)),axis=1)*10**4,vmin=-2,vmax=4)\n",
    "rect = plt.Rectangle((-0.4, -0.4), 1,5.85, fill=False, color=\"limegreen\", linewidth=3)\n",
    "axs[0,0].add_patch(rect)\n",
    "cbar = fig.colorbar(im1, extend='both', shrink=1, ax=axs[0,0])\n",
    "cbar.set_label('D (x10$^{-4}$ mm$^{2}$/s)', rotation=90, size=10)\n",
    "axs[0,0].set_xticks((1,T1.shape[0]),(T1[0],np.round(T1[-1],decimals=1)), size=12)\n",
    "axs[0,0].set_yticks((0,1,2,3,4,5),('$D_{xx}$','$D_{yy}$','$D_{zz}$','$D_{xy}$','$D_{xz}$','$D_{yz}$'), size=12)\n",
    "axs[0,0].set_xlabel('$T_{1}$ (ms)', size=12)\n",
    "axs[0,0].text(-0.12, 1.05, '(a)', transform=axs[0,0].transAxes, size=15)\n",
    "\n",
    "#T2\n",
    "im2 = axs[0,1].imshow(np.concatenate((theta[:,np.newaxis],np.transpose(ThetaT2)),axis=1)*10**4,vmin=-2,vmax=4)\n",
    "rect = plt.Rectangle((-0.4, -0.4), 1,5.85, fill=False, color=\"limegreen\", linewidth=3)\n",
    "axs[0,1].add_patch(rect)\n",
    "cbar = fig.colorbar(im2, extend='both', shrink=1, ax=axs[0,1])\n",
    "cbar.set_label('D (x10$^{-4}$ mm$^{2}$/s)', rotation=90, size=10)\n",
    "axs[0,1].set_xticks((1,T2.shape[0]),(T2[0],np.round(T2[-1],decimals=1)), size=12)\n",
    "axs[0,1].set_yticks((0,1,2,3,4,5),('$D_{xx}$','$D_{yy}$','$D_{zz}$','$D_{xy}$','$D_{xz}$','$D_{yz}$'), size=12)\n",
    "axs[0,1].set_xlabel('$T_{2}$ (ms)', size=12)\n",
    "axs[0,1].text(-0.12, 1.05, '(b)', transform=axs[0,1].transAxes, size=15)\n",
    "\n",
    "\n",
    "#B1\n",
    "im3 = axs[1,0].imshow(np.concatenate((theta[:,np.newaxis],np.transpose(ThetaB1)),axis=1)*10**4,vmin=-2,vmax=4)\n",
    "rect = plt.Rectangle((-0.4, -0.4), 1,5.85, fill=False, color=\"limegreen\", linewidth=3)\n",
    "axs[1,0].add_patch(rect)\n",
    "cbar = fig.colorbar(im3, extend='both', shrink=1, ax=axs[1,0])\n",
    "cbar.set_label('D (x10$^{-4}$ mm$^{2}$/s)', rotation=90, size=10)\n",
    "axs[1,0].set_xticks((1,B1.shape[0]),(B1[0],np.round(B1[-1],decimals=1)), size=12)\n",
    "axs[1,0].set_yticks((0,1,2,3,4,5),('$D_{xx}$','$D_{yy}$','$D_{zz}$','$D_{xy}$','$D_{xz}$','$D_{yz}$'), size=12)\n",
    "axs[1,0].set_xlabel('$B_{1}$', size=12)\n",
    "axs[1,0].text(-0.12, 1.05, '(c)', transform=axs[1,0].transAxes, size=15)"
   ]
  },
  {
   "cell_type": "code",
   "execution_count": null,
   "metadata": {},
   "outputs": [],
   "source": [
    "##\n",
    "#Calculate Median Difference\n",
    "B1Diff = np.median(np.abs((np.transpose(ThetaB1)-theta[:,np.newaxis]))/np.abs(theta[:,np.newaxis])*100)\n",
    "T1Diff = np.median(np.abs((np.transpose(ThetaT1)-theta[:,np.newaxis]))/np.abs(theta[:,np.newaxis])*100)\n",
    "T2Diff = np.median(np.abs((np.transpose(ThetaT2)-theta[:,np.newaxis]))/np.abs(theta[:,np.newaxis])*100)\n",
    "AvDiff = (B1Diff + T1Diff + T2Diff)/3\n",
    "print(''.join(['Median Difference versus Ground Truth = ','{0:.2f}'.format(AvDiff), '%']))\n",
    "\n",
    "##\n",
    "#Calcualte IQR\n",
    "B1DiffIQR = iqr(np.abs((np.transpose(ThetaB1)-theta[:,np.newaxis]))/np.abs(theta[:,np.newaxis])*100)\n",
    "T1DiffIQR = iqr(np.abs((np.transpose(ThetaT1)-theta[:,np.newaxis]))/np.abs(theta[:,np.newaxis])*100)\n",
    "T2DiffIQR = iqr(np.abs((np.transpose(ThetaT2)-theta[:,np.newaxis]))/np.abs(theta[:,np.newaxis])*100)\n",
    "AvDiffIQR = (B1DiffIQR + T1DiffIQR + T2DiffIQR)/3\n",
    "print(''.join(['IQR = ','{0:.2f}'.format(AvDiffIQR), '%']))"
   ]
  },
  {
   "cell_type": "code",
   "execution_count": null,
   "metadata": {},
   "outputs": [],
   "source": [
    "##\n",
    "#Save Figure\n",
    "fig.savefig(''.join([OutputPath,'Figure4ac.pdf']),dpi=300,format='pdf',bbox_inches='tight')"
   ]
  }
 ],
 "metadata": {
  "kernelspec": {
   "display_name": "sbi_env",
   "language": "python",
   "name": "python3"
  },
  "language_info": {
   "codemirror_mode": {
    "name": "ipython",
    "version": 3
   },
   "file_extension": ".py",
   "mimetype": "text/x-python",
   "name": "python",
   "nbconvert_exporter": "python",
   "pygments_lexer": "ipython3",
   "version": "3.12.8"
  }
 },
 "nbformat": 4,
 "nbformat_minor": 2
}
