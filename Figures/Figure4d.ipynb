{
 "cells": [
  {
   "cell_type": "code",
   "execution_count": null,
   "id": "a56638f2",
   "metadata": {},
   "outputs": [],
   "source": [
    "##\n",
    "#Import Packages\n",
    "import numpy as np\n",
    "import sys\n",
    "import pickle\n",
    "import torch\n",
    "import matplotlib.pyplot as plt\n",
    "from scipy.stats import iqr\n",
    "\n",
    "##\n",
    "#SBI Specific Packages\n",
    "from sbi import analysis as analysis\n",
    "from sbi import utils as utils"
   ]
  },
  {
   "cell_type": "code",
   "execution_count": null,
   "id": "3b36831f",
   "metadata": {},
   "outputs": [],
   "source": [
    "##\n",
    "#Define Path to Code Database\n",
    "DirPath = '/PATH/TO/bin/'\n",
    "\n",
    "#Define Path for Posterior Object\n",
    "InputPath = '/PATH/TO/Posterior.pkl'\n",
    "\n",
    "#Define Path to Example Data\n",
    "DataPath = '/PATH/TO/ExampleData/'\n",
    "\n",
    "#Define Output Path\n",
    "OutputPath = '/PATH/TO/Output/'"
   ]
  },
  {
   "cell_type": "code",
   "execution_count": null,
   "id": "164bd9ad",
   "metadata": {},
   "outputs": [],
   "source": [
    "##\n",
    "#Load Posterior\n",
    "with open(InputPath, \"rb\") as handle:\n",
    "    posterior = pickle.load(handle)"
   ]
  },
  {
   "cell_type": "code",
   "execution_count": null,
   "id": "5edfb2ca",
   "metadata": {},
   "outputs": [],
   "source": [
    "##\n",
    "#Import Custom Functions\n",
    "sys.path.append(DirPath)\n",
    "from ImportData import *\n",
    "from FreedAnalytical import *"
   ]
  },
  {
   "cell_type": "code",
   "execution_count": null,
   "id": "4041628e",
   "metadata": {},
   "outputs": [],
   "source": [
    "##\n",
    "#Load Data\n",
    "    # bvecs - bvectors (3xn)\n",
    "    # FlipAngles - Flip Angles (degrees) (1xn)\n",
    "    # tau - Diffusion Gradient Duration (seconds) (1xn), \n",
    "    # G - Diffusion Gradient Duration (G/cm - Equivalent to mT/m Divided by 10) (1xn)\n",
    "    # TRs - Repetition Times (seconds) (1xn)\n",
    "    # b0s - Array Defining b0 locations (b0 = 1, dwi = 0) (1xn)\n",
    "\n",
    "bvecs, FlipAngles, tau, G, TRs, _ = ImportTextDataDWSSFP(DataPath)"
   ]
  },
  {
   "cell_type": "code",
   "execution_count": null,
   "id": "0b715776",
   "metadata": {},
   "outputs": [],
   "source": [
    "##\n",
    "#Obtain Arbitrary Tensor / Signal Pairs\n",
    "from sbi.inference import SNPE, simulate_for_sbi\n",
    "\n",
    "##\n",
    "#Define Nuber of Simulations\n",
    "nSim = 1000\n",
    "\n",
    "##\n",
    "#Define Prior Bounds\n",
    "PriorLow = [0, 0, 0, -0.00025, -0.00025, -0.00025]\n",
    "PriorHigh = [0.0005, 0.0005, 0.0005, 0.00025, 0.00025, 0.00025]\n",
    "\n",
    "##\n",
    "#Define Prior (Uniform)\n",
    "prior = utils.BoxUniform(low=torch.tensor(PriorLow), high=torch.tensor(PriorHigh))\n",
    "\n",
    "##\n",
    "#Define Range of T1 (ms), T2 (ms) & B1 (normalised) for Forward Simulator\n",
    "T1Range = [300,1200]\n",
    "T2Range = [20,80]\n",
    "B1Range = [0.2,1.2]\n",
    "\n",
    "##\n",
    "#Define Simulator\n",
    "simulator = lambda theta: FreedDWSSFPTensor_Conditional_SBIWrapper(theta,G,tau,TRs,FlipAngles,bvecs,B1Range,T1Range,T2Range,Cond=True)\n",
    "\n",
    "##\n",
    "#Estimate Tensor / Signal Pairs - Exagerate no. Simulations to Account for NaNs (i.e. Invalid Tensors)\n",
    "DArb, SArb = simulate_for_sbi(simulator, prior, nSim*5)"
   ]
  },
  {
   "cell_type": "code",
   "execution_count": null,
   "id": "845c3674",
   "metadata": {},
   "outputs": [],
   "source": [
    "##\n",
    "#Obtain nSim Valid Tensor / Signal Pairs for Evaluation\n",
    "Finite_idx = np.squeeze(np.argwhere(np.isfinite(SArb[:,0])))\n",
    "DArb = DArb[Finite_idx[0:nSim],:]\n",
    "SArb = SArb[Finite_idx[0:nSim],:]"
   ]
  },
  {
   "cell_type": "code",
   "execution_count": null,
   "id": "d8bbda9a",
   "metadata": {},
   "outputs": [],
   "source": [
    "##\n",
    "#Define Number of Posterior Samples per Evaluation\n",
    "Samples = 100\n",
    "\n",
    "##\n",
    "#Initialise Matrices\n",
    "D_NPE = np.zeros([Samples,6,nSim])\n",
    "\n",
    "##\n",
    "#Perform NPE Evalution\n",
    "for k in range(nSim):  \n",
    "    D_NPE[:,:,k] = posterior.sample((Samples,), x=SArb[k,:])"
   ]
  },
  {
   "cell_type": "code",
   "execution_count": null,
   "id": "a7bf22f3",
   "metadata": {},
   "outputs": [],
   "source": [
    "##\n",
    "#Obtain Mean of Posterior\n",
    "D_NPE_Mean = np.mean(D_NPE,axis=0)"
   ]
  },
  {
   "cell_type": "code",
   "execution_count": null,
   "id": "d8d12e03",
   "metadata": {},
   "outputs": [],
   "source": [
    "##\n",
    "#Plot Figure of Difference with Ground Truth\n",
    "fig, axs = plt.subplots(1, 6)\n",
    "fig.set_size_inches(6,3)\n",
    "for k in range(6):\n",
    "    axs[k].hist(D_NPE_Mean[k,:]-DArb[:,k].numpy(),bins=100);axs[k].set_xlim([-1.5E-5,1.5E-5]);axs[k].set_yticks([])\n"
   ]
  },
  {
   "cell_type": "code",
   "execution_count": null,
   "id": "002121b3",
   "metadata": {},
   "outputs": [],
   "source": [
    "##\n",
    "#Calculate Average Difference\n",
    "DDiff = np.median(np.abs(np.transpose(D_NPE_Mean)-DArb.numpy()))\n",
    "print(''.join(['Median Difference versus Ground Truth = ','{0:.2f}'.format(DDiff*10**6), r' x10^-6 mm2/s']))\n",
    "\n",
    "##\n",
    "#Clculate Interquartile Range\n",
    "DIQR = iqr(np.abs(np.transpose(D_NPE_Mean)-DArb.numpy()))\n",
    "print(''.join(['IQR = ','{0:.2f}'.format(DIQR*10**6), r' x10^-6 mm2/s']))\n"
   ]
  },
  {
   "cell_type": "code",
   "execution_count": null,
   "id": "c8cc82f0",
   "metadata": {},
   "outputs": [],
   "source": [
    "##\n",
    "#Save Figure\n",
    "fig.savefig(''.join([OutputPath,'Figure4d.pdf']),dpi=300,format='pdf',bbox_inches='tight')"
   ]
  }
 ],
 "metadata": {
  "kernelspec": {
   "display_name": "sbi_env",
   "language": "python",
   "name": "python3"
  },
  "language_info": {
   "codemirror_mode": {
    "name": "ipython",
    "version": 3
   },
   "file_extension": ".py",
   "mimetype": "text/x-python",
   "name": "python",
   "nbconvert_exporter": "python",
   "pygments_lexer": "ipython3",
   "version": "3.12.8"
  }
 },
 "nbformat": 4,
 "nbformat_minor": 5
}
